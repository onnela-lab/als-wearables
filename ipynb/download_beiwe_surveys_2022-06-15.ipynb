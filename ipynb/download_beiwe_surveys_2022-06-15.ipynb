{
 "cells": [
  {
   "cell_type": "code",
   "execution_count": null,
   "id": "3004771c",
   "metadata": {},
   "outputs": [],
   "source": [
    "#pip install openpyxl\n",
    "#pip install mano"
   ]
  },
  {
   "cell_type": "code",
   "execution_count": null,
   "id": "c9bff8ab",
   "metadata": {},
   "outputs": [],
   "source": [
    "from platform import python_version\n",
    "import sys\n",
    "import os\n",
    "import pandas as pd\n",
    "import mano\n",
    "import time\n",
    "import mano.sync as msync\n",
    "import numpy as np"
   ]
  },
  {
   "cell_type": "code",
   "execution_count": null,
   "id": "355a98e9",
   "metadata": {},
   "outputs": [],
   "source": [
    "print(python_version())\n",
    "print(sys.executable)"
   ]
  },
  {
   "cell_type": "code",
   "execution_count": null,
   "id": "de5ea661",
   "metadata": {},
   "outputs": [],
   "source": [
    "#proj_shared_dir = \"/Users/martakaras/Dropbox/Beiwe Resources - for Accelerometry Analysis\"\n",
    "proj_shared_dir = \"/Users/mak5182/Dropbox/Beiwe Resources - for Accelerometry Analysis\"\n",
    "beiwe_data_raw_dir  = os.path.join(proj_shared_dir, \"data_beiwe_raw\")\n",
    "beiwe_data_raw_dir"
   ]
  },
  {
   "cell_type": "markdown",
   "id": "032aae79",
   "metadata": {},
   "source": [
    "### Set up the keyring"
   ]
  },
  {
   "cell_type": "code",
   "execution_count": null,
   "id": "f79be8ff",
   "metadata": {},
   "outputs": [],
   "source": [
    "#sys.path.insert(0, '/Users/martakaras/Documents/data_beiwe_settings/')\n",
    "sys.path.insert(0, '/Users/mak5182/Documents/data_beiwe_settings/')\n",
    "import keyring_studies_MK\n",
    "Keyring = mano.keyring(None)"
   ]
  },
  {
   "cell_type": "markdown",
   "id": "2f08d8db",
   "metadata": {},
   "source": [
    "### Prepare subject ID list"
   ]
  },
  {
   "cell_type": "code",
   "execution_count": null,
   "id": "683dded8",
   "metadata": {},
   "outputs": [],
   "source": [
    "file_name = \"smart_wearables_start_end_dates_clean.csv\"\n",
    "file_path = os.path.join(proj_shared_dir, \"data_participants_other_processed\", file_name)\n",
    "SMARTW_user_id_df = pd.read_csv(file_path)"
   ]
  },
  {
   "cell_type": "code",
   "execution_count": null,
   "id": "c22567ac",
   "metadata": {},
   "outputs": [],
   "source": [
    "user_id_list = SMARTW_user_id_df['beiwe_id'].tolist()\n",
    "# remove nan\n",
    "user_id_list = [x for x in user_id_list if str(x) != 'nan']\n",
    "# append one additional beiwe_id \n",
    "# (NOTE: actual value replaced with \"foobar\" for the public distribution)\n",
    "user_id_list.append(\"foobar\")\n",
    "# how many Beiwe ID\n",
    "print(len(user_id_list))\n",
    "# 50"
   ]
  },
  {
   "cell_type": "markdown",
   "id": "8993a677",
   "metadata": {},
   "source": [
    "### Download survey and identifiers data"
   ]
  },
  {
   "cell_type": "code",
   "execution_count": null,
   "id": "ba1966d0",
   "metadata": {},
   "outputs": [],
   "source": [
    "# study ID\n",
    "# (NOTE: actual value replaced with \"foobar2\" for the public distribution)\n",
    "study_id = 'foobar2'\n",
    "data_streams = ['identifiers', 'survey_answers', 'survey_timings']"
   ]
  },
  {
   "cell_type": "code",
   "execution_count": null,
   "id": "b3cc3e23",
   "metadata": {},
   "outputs": [],
   "source": [
    "user_id_list[:5]"
   ]
  },
  {
   "cell_type": "code",
   "execution_count": null,
   "id": "1b18c6eb",
   "metadata": {
    "scrolled": false
   },
   "outputs": [],
   "source": [
    "# list to store elapsed time and other stats\n",
    "t_diff_vec = []\n",
    "status_vec = []\n",
    "error_user_id_vec = []\n",
    "\n",
    "# run download\n",
    "for i in range(len(user_id_list)):\n",
    "#for i in range(10, len(user_id_list), 1):\n",
    "    user_id = user_id_list[i]\n",
    "    t_start = time.time()\n",
    "    try:\n",
    "        zf = msync.download(Keyring, study_id, user_id, data_streams = data_streams)\n",
    "        zf.extractall(beiwe_data_raw_dir)\n",
    "        status_vec.append(1)\n",
    "        print(\"SUCCESS\")\n",
    "    except BaseException as e:\n",
    "        print(str(e))\n",
    "        status_vec.append(0)\n",
    "        error_user_id_vec.append(user_id)\n",
    "        print(\"FAIL\")\n",
    "    # append elapsed time info \n",
    "    t_end   = time.time()\n",
    "    t_diff  = t_end - t_start\n",
    "    t_diff_vec.append(t_diff)\n",
    "    summary_log = \"i = \" + str(i) + \", STUDY = \" + study_id + \", USER = \" + user_id + \", TIME ELAPSED = \" + str(np.round(t_diff, 1)) + \"s\"\n",
    "    print(summary_log)"
   ]
  },
  {
   "cell_type": "code",
   "execution_count": null,
   "id": "019c1533",
   "metadata": {},
   "outputs": [],
   "source": []
  },
  {
   "cell_type": "code",
   "execution_count": null,
   "id": "41e37f8c",
   "metadata": {},
   "outputs": [],
   "source": []
  }
 ],
 "metadata": {
  "kernelspec": {
   "display_name": "Python 3 (ipykernel)",
   "language": "python",
   "name": "python3"
  },
  "language_info": {
   "codemirror_mode": {
    "name": "ipython",
    "version": 3
   },
   "file_extension": ".py",
   "mimetype": "text/x-python",
   "name": "python",
   "nbconvert_exporter": "python",
   "pygments_lexer": "ipython3",
   "version": "3.9.7"
  }
 },
 "nbformat": 4,
 "nbformat_minor": 5
}
